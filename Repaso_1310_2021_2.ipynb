{
  "nbformat": 4,
  "nbformat_minor": 0,
  "metadata": {
    "colab": {
      "name": "Repaso_1310_2021/2.ipynb",
      "provenance": [],
      "collapsed_sections": []
    },
    "kernelspec": {
      "name": "python3",
      "display_name": "Python 3"
    },
    "language_info": {
      "name": "python"
    }
  },
  "cells": [
    {
      "cell_type": "markdown",
      "metadata": {
        "id": "gHp__qGwfMP1"
      },
      "source": [
        "#Repaso de programacion con Python 3\n",
        "\n",
        "####Estructura de datos 1310\n",
        "\n",
        "La funcion print\n",
        "\n",
        "1. utilizando \"+\"\n",
        "1. utilizando comillas dobles o simples\n",
        "1. Utilizando la funcion format\n",
        "1. operador f'\n",
        "1. utilizando una coma \",\" "
      ]
    },
    {
      "cell_type": "code",
      "metadata": {
        "id": "ly6uOPT4b7Gf"
      },
      "source": [
        "nombre = \"Jesus\"\n",
        "carrera = \"Ingenieria en computacion\"\n",
        "\n",
        "print (\"Hola \", nombre + \" Hola\")\n",
        "print (\"tu nombre es \", nombre, \"y estudiaste\", carrera)\n",
        "\n",
        "#Con format\n",
        "\n",
        "print (\"tu nombre es {0} y estudiaste {1}\".format(\"Armando\", carrera))\n",
        "\n",
        "#Con el operador f\"\"\"\n",
        "print(f\"Tu nombre es {nombre} y estudiaste {carrera}\")\n",
        "\n",
        "#Salto de linea\n",
        "print(nombre, end = \"\")\n",
        "print(\" \", end = \"\")\n",
        "print(carrera, end = \"\" )\n"
      ],
      "execution_count": null,
      "outputs": []
    },
    {
      "cell_type": "markdown",
      "metadata": {
        "id": "Am2nAfDlkqMS"
      },
      "source": [
        "##Entrada de datos\n",
        "#### funcion input()\n",
        "\n",
        "sirve para pedir datos al usuario, equivalente a scanf en leng \"C\" o a clase Scanner de Java siempre regresa un String."
      ]
    },
    {
      "cell_type": "code",
      "metadata": {
        "id": "5U1zM6OPkoyM"
      },
      "source": [
        "nombre = input(\"Introduce tu nombre, amigo \")\n",
        "print(nombre)\n",
        "\n",
        "semestre = input(\"En qué semestre estas \")\n",
        "print(semestre)\n",
        "semestre = int(input(semestre)) +1\n",
        "print(semestre)\n",
        "\n",
        "semestre = int(input(\"cuál es tu semestre: \"))\n",
        "int(input(semestre)) +1\n"
      ],
      "execution_count": null,
      "outputs": []
    },
    {
      "cell_type": "markdown",
      "metadata": {
        "id": "DS40_OcxoRoq"
      },
      "source": [
        "#Repaso del tipo de dato string\n",
        "\n",
        "Es un tipo de dato muy versatil. Los tipos de dato en Python, en realidad son objetos (POO), es decir, tiene atributos y metodos \n",
        "\n",
        "Los valores internos de un String se almacenan como un arreglo.\n",
        "\n",
        "Es decir, se accede a los elementos con el operador [indice]"
      ]
    },
    {
      "cell_type": "code",
      "metadata": {
        "id": "dZyUuxLFpHJF"
      },
      "source": [
        "frase = \"El conocimiento me persigue... Pero yo soy mas rápido!!+\"\n",
        "\n",
        "#Cómo se almacena la informacion\n",
        "\n",
        "print(frase[3])\n",
        "\n",
        "print(len(frase))\n",
        "\n",
        "print(frase[55])\n",
        "\n",
        "#indexado negativo\n",
        "print(frase[-8])\n",
        "\n",
        "#iterar sobre un string\n",
        "for letra in frase:\n",
        "    print(letra)\n",
        "print(\"Fin\")\n"
      ],
      "execution_count": null,
      "outputs": []
    },
    {
      "cell_type": "markdown",
      "metadata": {
        "id": "umlZk_QTGFgw"
      },
      "source": [
        "#slincing (rebanado)\n",
        "\n",
        "Es posible seleccionar segmentos de una lista (str) por medio de la sintaxis [ <Inicio>: <Tope>: <incremento> ]\n",
        "\n",
        "Por defecto:\n",
        "* Inicio = 0 , -1\n",
        "* Tope = tamaño de la lista (str), no incluye el tope, se queda uno antes , -0\n",
        "* Incremento = 1 , -1\n"
      ]
    },
    {
      "cell_type": "code",
      "metadata": {
        "id": "E0PdMP0IGj9t"
      },
      "source": [
        " nombre = \"Facultad de Estudios Estudios Aragon\"\n",
        "\n",
        " print (nombre[0])\n",
        " print (nombre[-1])\n",
        "\n",
        " #slicing\n",
        " print (nombre[ 2: 5 :1 ])\n",
        " print (nombre[0 : 8: 1])\n",
        "\n",
        " #slicing con indexado negativo (-)\n",
        " print (nombre[ -6: 0 :1 ])\n",
        "\n",
        " print (nombre[ 7:  :-1 ])"
      ],
      "execution_count": null,
      "outputs": []
    },
    {
      "cell_type": "markdown",
      "metadata": {
        "id": "4pg7fF8QKdr1"
      },
      "source": [
        "#string como objeto\n",
        "El tipo de dato string es una clase, por lo tanto tiene atributos y metodos\n",
        "\n",
        "###Ayuda en linea de Python\n",
        "\n",
        "Hay dos funciones que te dan ayuda en Python, \n",
        "1. dir()\n",
        "2. help()\n"
      ]
    },
    {
      "cell_type": "code",
      "metadata": {
        "id": "30mTn4GGHPcU"
      },
      "source": [
        "dir(str) "
      ],
      "execution_count": null,
      "outputs": []
    },
    {
      "cell_type": "code",
      "metadata": {
        "id": "ocdYSViPLTif"
      },
      "source": [
        "apellidos = \"garcia perez\"\n",
        "\n",
        "print( apellidos.capitalize() )\n",
        "print( apellidos.title() )\n",
        "print( apellidos.find('a') )\n",
        "print( \"LOPEZ PEREZ\".lower() )\n",
        "print( apellidos.upper() )\n",
        "\n",
        "\n",
        "numero= \"        1,    2,       3,     4,5,6    \"\n",
        "num_dividos = numero.strip().split(',')\n",
        "print( num_dividos )\n",
        "\n",
        "#num_dividos[0]  = num_dividos[0].strip()\n",
        "#num_dividos[1]  = num_dividos[1].strip()\n",
        "#num_dividos[2]  = num_dividos[2].strip()\n",
        "#num_dividos[3]  = num_dividos[3].strip()\n",
        "#num_dividos[4]  = num_dividos[4].strip()\n",
        "#num_dividos[5]  = num_dividos[5].strip()\n",
        "\n",
        "print(num_dividos)\n",
        "\n",
        "for elem in num_dividos:\n",
        "    print( elem )\n",
        "\n",
        "for index in  range(6):\n",
        "    num_dividos[index] = num_dividos[index].strip()\n",
        "    \n",
        "print(num_dividos)"
      ],
      "execution_count": null,
      "outputs": []
    },
    {
      "cell_type": "markdown",
      "metadata": {
        "id": "mjPguRUaPaYz"
      },
      "source": [
        "#Estructura de control\n",
        "##if\n",
        "##if-else\n",
        "##switch - case (En Python se implementa con if )\n",
        "## for\n",
        "##while y do-while\n"
      ]
    },
    {
      "cell_type": "code",
      "metadata": {
        "id": "Ux-0zCDBPw66"
      },
      "source": [
        "#if\n",
        "\n",
        "a = 12\n",
        "b = 23\n",
        "c = 4\n",
        "print( a > b)\n",
        "\n",
        "if a > b :\n",
        "    print(\"Estamos en el IF \")\n",
        "    print(\"A es mayor que B \")\n",
        "print(\"Fin del programa\")\n",
        "\n",
        "\n",
        "################\n",
        "if c > a:\n",
        "    if c > b:\n",
        "        print (\"C es el mayor de los tres \")\n",
        "\n",
        "if c > a and c > b:\n",
        "    print(\"C es el mayor de los tres\")\n",
        "\n",
        "#if-else, cuál de las tres variables es mayor\n",
        "if a > b:\n",
        "    if a > c:\n",
        "        print(\"A es la mayor \")\n",
        "    else: \n",
        "        print(\"C es la mayor \")\n",
        "else: \n",
        "    if b > c:\n",
        "        print(\"B es la mayor\")\n",
        "    else: \n",
        "        print(\"C es la mayor\")\n",
        "\n",
        "#if-else (elif) tiene una notacion especial, cuando se encadena un if dentro de un else\n",
        "if a > b:\n",
        "    if a > c:\n",
        "        print(\"A es la mayor \")\n",
        "    else: \n",
        "        print(\"C es la mayor \")\n",
        "elif b > c:\n",
        "        print(\"B es la mayor\")\n",
        "else: \n",
        "        print(\"C es la mayor\")\n",
        "\n",
        "#Pedir a un usuario un numero entre 1  a 7, e imprimir el día de semana que corresponda\n",
        "opcion = int(input(\"Introduce un número entre 1 y 7 \"))\n",
        "\n",
        "if opcion > 0 and opcion < 8:\n",
        "    if opcion == 1:\n",
        "        print(\"Lunes \")\n",
        "    elif opcion == 2:\n",
        "        print(\"Martes \")\n",
        "    elif opcion == 3:\n",
        "        print(\"Miercoles \")\n",
        "    elif opcion == 4:\n",
        "        print(\"Jueves \")\n",
        "    elif opcion == 5:\n",
        "        print(\"Viernes \")\n",
        "    elif opcion == 6:\n",
        "        print(\"Sabado \")\n",
        "    elif opcion == 7:\n",
        "        print(\"Domingo \")\n",
        "\n",
        "else: \n",
        "    print(\"Tu dato está fuera de lo solicitado \")\n",
        "\n",
        "\n",
        "\n"
      ],
      "execution_count": null,
      "outputs": []
    },
    {
      "cell_type": "code",
      "metadata": {
        "id": "R2NP1DeTUt97"
      },
      "source": [
        "#FOR y range ## es una funcion que te proporciona un enumerado \n",
        "\n",
        "algo = range(4,10,2)\n",
        "frutas =['pera', 'manzana', 'aguacate', 'kiwi', 'platano']\n",
        "nombre =  \"Santiago\"\n",
        "print(algo)\n",
        "\n",
        "for x in algo:  #equivalente for(int x = 4; x<10; x=x+2)\n",
        "    print(x)\n",
        "\n",
        "for index  in range(0,5,1): \n",
        "    print(frutas[index])\n",
        "    \n",
        "#for  e iteradores (for-each)\n",
        "for  fruit in  frutas:\n",
        "    print (fruit)\n",
        "for letra in nombre:\n",
        "    print (letra.upper())\n",
        "\n"
      ],
      "execution_count": null,
      "outputs": []
    },
    {
      "cell_type": "code",
      "metadata": {
        "id": "bYSEXH9MX330"
      },
      "source": [
        "# while\n",
        "\n",
        "#Hacer un programa que imprima del 1 al 10 con while\n",
        "control = 1\n",
        "\n",
        "while control <= 10:\n",
        "    print (control)\n",
        "    control += 1"
      ],
      "execution_count": null,
      "outputs": []
    },
    {
      "cell_type": "markdown",
      "metadata": {
        "id": "tOcMRFA9Y5Ys"
      },
      "source": [
        "#Funciones\n",
        "\n",
        "Es un segmento de código que recibe cero o mas valores de entrada, realiza una o  un conjunto de operaciones de forma interna y regresa  un solo tipo de dato, aunque sea de valor none (Void)\n",
        "\n",
        "Las funciones se declaran con la palabra reservada **def**"
      ]
    },
    {
      "cell_type": "code",
      "metadata": {
        "id": "pg1wj9S0ZZ5P",
        "colab": {
          "base_uri": "https://localhost:8080/"
        },
        "outputId": "3e81caec-1e64-4b97-c74d-8e49ea7f3c3f"
      },
      "source": [
        "#Funcion suma\n",
        "\n",
        "def suma (a, b):\n",
        "    c = 0\n",
        "    c = a + b\n",
        "    return c\n",
        "\n",
        "print( suma( 4, 5 ) )\n",
        "\n",
        "#funcion que salude personas\n",
        "\n",
        "def saludar ( nombre ):\n",
        "    print(f\"Hola {nombre}, ¿cómo estas? \")\n",
        "\n",
        "saludar(\"Jesus\")\n",
        "nombre = \"Santiago\"\n",
        "saludar(nombre)\n",
        "\n",
        "res= saludar(nombre)\n",
        "print(res)\n"
      ],
      "execution_count": null,
      "outputs": [
        {
          "output_type": "stream",
          "name": "stdout",
          "text": [
            "9\n",
            "Hola Jesus, ¿cómo estas? \n",
            "Hola Santiago, ¿cómo estas? \n",
            "Hola Santiago, ¿cómo estas? \n",
            "None\n"
          ]
        }
      ]
    },
    {
      "cell_type": "markdown",
      "metadata": {
        "id": "1DmllqxrJO6_"
      },
      "source": [
        "#Default y funciones \n",
        "Hay ocaciones que es necesario que es necesario declarar valores por defecto en los argumentos de una funcion\n"
      ]
    },
    {
      "cell_type": "code",
      "metadata": {
        "id": "As1_nCVyJeAX"
      },
      "source": [
        "def saludar( nombre, veces=5 ):\n",
        "    for x in range( veces ):\n",
        "        print(f\" {x}.- Hola { nombre } \")\n",
        "\n",
        "saludar( \"Juan \", 3 )\n",
        "\n",
        "#argumento con llamadas no posicionales\n",
        "\n",
        "saludar(veces=6, nombre=\"Juan\")"
      ],
      "execution_count": null,
      "outputs": []
    },
    {
      "cell_type": "markdown",
      "metadata": {
        "id": "tXKoIxUKbcX2"
      },
      "source": [
        "#Listas, Diccionarios, tuplas, conjuntos y sets"
      ]
    },
    {
      "cell_type": "markdown",
      "metadata": {
        "id": "jeJKosmCL_Ve"
      },
      "source": [
        "#Listas\n",
        "Son estructuras de datos declaradas en Python. Funcionan como los arreglos en Java y C, con algunas diferencias\n",
        "\n",
        "* Usan el selector [ ]\n",
        "* Estructura de secuencias (0 ... n)\n",
        "* Son mutables \n",
        "* Puede contener valores de diferente\n",
        "  tipo: [1, \"Manzana\", True, 1.23 ]\n",
        "* Pueden ser anidados (multidimensional)\n",
        "* Se crean usando [] y list()"
      ]
    },
    {
      "cell_type": "code",
      "metadata": {
        "id": "Y5XFP3i6M_A2",
        "colab": {
          "base_uri": "https://localhost:8080/"
        },
        "outputId": "8162a6ac-0dfc-4182-99ac-bdfacdb681ff"
      },
      "source": [
        " frutas = [\"Pera\", \"Lima\", \"Limón\", \"Kiwi\", \"Manzana\" ]\n",
        " print(frutas)\n",
        " print( frutas[1] )\n",
        " frutas[1] = \"Mango\"\n",
        " print(frutas)\n",
        " persona = [\"Jose\", 1.78, 19, False, 70.5, \"ICO\" ]\n",
        " print(persona)\n",
        " print(persona[-1])\n",
        "\n",
        " #Slicing\n",
        " numeros=[2, 4, 6, 8, 10, 12, 14, 16, 18, 20]\n",
        " print(numeros[4:7])\n",
        " "
      ],
      "execution_count": null,
      "outputs": [
        {
          "output_type": "stream",
          "name": "stdout",
          "text": [
            "['Pera', 'Lima', 'Limón', 'Kiwi', 'Manzana']\n",
            "Lima\n",
            "['Pera', 'Mango', 'Limón', 'Kiwi', 'Manzana']\n",
            "['Jose', 1.78, 19, False, 70.5, 'ICO']\n",
            "ICO\n",
            "[10, 12, 14]\n"
          ]
        }
      ]
    },
    {
      "cell_type": "code",
      "metadata": {
        "id": "X27FfbpOO_8Y"
      },
      "source": [
        "#Listas multidimensionales\n",
        "\n",
        "bds=[ \"mysql\", \"oracle\", \"BD2\", \"Mongo\", \"SQlite\" ]\n",
        "leng_prog = [ \"C\", \"Java\", \"JS\", \"C++\", \"C#\", \"Python\" ]\n",
        "tecnologias = [ bds, leng_prog ]\n",
        "print(tecnologias)\n",
        "\n",
        "print(tecnologias[ 1 ][ 3 ]) #C++\n",
        "print(tecnologias[ 0 ][ -1 ]) #sqlite\n",
        "print(tecnologias[1][2:5])"
      ],
      "execution_count": null,
      "outputs": []
    },
    {
      "cell_type": "markdown",
      "metadata": {
        "id": "7R46zyu_SqEe"
      },
      "source": [
        "#clase list \n",
        "\n",
        "El tipo de dato list en realidad es una clase que tiene metodos\n",
        "\n",
        "Son un tipo de contenedor, compuesto, que se usan para almacenar conjuntos de elementos relacionados del mismo tipo o de tipos distintos\n"
      ]
    },
    {
      "cell_type": "code",
      "metadata": {
        "id": "rAMIA0lpS1eV",
        "colab": {
          "base_uri": "https://localhost:8080/"
        },
        "outputId": "742437ac-8d0c-4aa8-e064-8be00707d23c"
      },
      "source": [
        "numeros = [ 100, 23, 45, 23, 55, 1, 22, 101, 99, 10, 13 ]\n",
        "type( numeros )\n",
        "dir( numeros )\n",
        "print(numeros.sort())\n",
        "print( numeros )\n",
        "numeros.reverse()\n",
        "print( numeros )\n",
        "\n",
        "#Eliminar elementos de un arreglo. Tenemos dos formas:\n",
        "#Forma 1 \n",
        "#utilizando el metodo remove \n",
        "numeros.remove(55)\n",
        "print( numeros )\n",
        "\n",
        "#forma 2\n",
        "#Utilizando el operador del\n",
        "\n",
        "del numeros[3]\n",
        "print(numeros)\n",
        "\n",
        "#append agrega elementos al final\n",
        "\n",
        "numeros.append(0)\n",
        "numeros.append(33)\n",
        "numeros.sort()\n",
        "numeros.reverse()\n",
        "print( numeros )\n",
        "numeros.insert(3, 60)\n",
        "print( numeros )\n",
        "n = numeros.pop()\n",
        "print(n)\n",
        "print(numeros)\n",
        "n = numeros.pop(1)\n",
        "print(n)\n",
        "print(numeros)\n",
        "\n",
        "#extend\n",
        "\n",
        "mas_numeros = [400,500,600,700]\n",
        "numeros.extend(mas_numeros)\n",
        "print(numeros)\n",
        "#numeros.clear() ( 'Clear()' se encarga de vaciar el contenido de la lista)\n",
        "#print( numeros ) \n",
        "\n",
        "#Listas y la estructura de control FOR\n",
        "\n",
        "for num in numeros:\n",
        "    print(f\"---> {num} <---\")"
      ],
      "execution_count": null,
      "outputs": [
        {
          "output_type": "stream",
          "name": "stdout",
          "text": [
            "None\n",
            "[1, 10, 13, 22, 23, 23, 45, 55, 99, 100, 101]\n",
            "[101, 100, 99, 55, 45, 23, 23, 22, 13, 10, 1]\n",
            "[101, 100, 99, 45, 23, 23, 22, 13, 10, 1]\n",
            "[101, 100, 99, 23, 23, 22, 13, 10, 1]\n",
            "[101, 100, 99, 33, 23, 23, 22, 13, 10, 1, 0]\n",
            "[101, 100, 99, 60, 33, 23, 23, 22, 13, 10, 1, 0]\n",
            "0\n",
            "[101, 100, 99, 60, 33, 23, 23, 22, 13, 10, 1]\n",
            "100\n",
            "[101, 99, 60, 33, 23, 23, 22, 13, 10, 1]\n",
            "[101, 99, 60, 33, 23, 23, 22, 13, 10, 1, 400, 500, 600, 700]\n",
            "---> 101 <---\n",
            "---> 99 <---\n",
            "---> 60 <---\n",
            "---> 33 <---\n",
            "---> 23 <---\n",
            "---> 23 <---\n",
            "---> 22 <---\n",
            "---> 13 <---\n",
            "---> 10 <---\n",
            "---> 1 <---\n",
            "---> 400 <---\n",
            "---> 500 <---\n",
            "---> 600 <---\n",
            "---> 700 <---\n"
          ]
        }
      ]
    },
    {
      "cell_type": "markdown",
      "metadata": {
        "id": "2LwCGZ-OlSJu"
      },
      "source": [
        "#Tuplas\n",
        "\n",
        "* Estructura de dato lineal\n",
        "* Se declaran con (    ) \n",
        "* Son **inmutables** \n",
        "* Usan menos espacio en memoria \n",
        "* Son utilies para declarar valores de consulta\n",
        "* Fuera de eso las demas caracteristicas son las mismas que las LISTAS.\n"
      ]
    },
    {
      "cell_type": "code",
      "metadata": {
        "id": "KyiQzBqclRAI"
      },
      "source": [
        "datos_conexion = (\"123.234.145.23\", \"Juan\", 'patito123')\n",
        "print(datos_conexion[0]) #Hasta aqui es igual a una lista\n",
        "#datos_conexion[0] = \"127.0.0.1\" 'EN LAS TUPLAS NO SE PUEDE CAMBIAR SU VALOR PORQUE ES INMUTABLE'\n"
      ],
      "execution_count": null,
      "outputs": []
    },
    {
      "cell_type": "markdown",
      "metadata": {
        "id": "8NAkHuHjX_1s"
      },
      "source": [
        "#Diccionario\n",
        "\n",
        "Es una estructura de datos y un tipo de dato en Python, que nos permite almacenar cualquier tipo de valor como enteros, cadenas, listas e incluso otras funciones.\n",
        "\n",
        "* Son estructuras no lineales\n",
        "* Formada por pares llave-valor {\"key\": valor}\n",
        "* Donde valor puede ser cualquier tipo: int, float, list, diccionario.\n",
        "* No se selecciona [ ] X\n",
        "* Su selector es por llave(Key)\n",
        "* Son mutables\n"
      ]
    },
    {
      "cell_type": "code",
      "metadata": {
        "id": "65PS1f_eeCSP"
      },
      "source": [
        "estudiante = {\n",
        "\"nombre\" : { \"nombres\" : [\"Juan\", \"Jose\"] ,\n",
        "\"paterno\" : \"Pérez\" ,\n",
        "\"materno\" : \" Garcia\"\n",
        "},\n",
        "\"edad\" : 19 ,\n",
        "\"estatura\" : 1.7,\n",
        "\"carrera\" : {\n",
        "\"escuela\" : \"UNAM FES Aragón\",\n",
        "\"Carrera\" : \"ICO\",\n",
        "\"semestre\" : 2\n",
        "},\n",
        "\"direccion\" : {\n",
        "\"calle\" : \"Colorines\",\n",
        "\"num_exterior\" : 34,\n",
        "\"interior\" : \"apartmento B\"\n",
        "},\n",
        "\"telefonos\" : {\n",
        "\"casa\" : 556463663,\n",
        "\"celular\" : [\"+5255767664\" , \"+52557373773\"]\n",
        "}\n",
        "\n",
        "}\n",
        "\n",
        "\n",
        "# ejemplo\n",
        "print(estudiante['direccion']['calle'])\n",
        "print(f\"La estatura es : {estudiante['estatura']}\")\n",
        "print( estudiante['telefonos']['celular'][1])\n",
        "estudiante['direccion']['calle'] = 'Pancho Lopez'\n",
        "print(estudiante['direccion'])\n",
        "estudiante['direccion']['colonia'] = 'Impulsora'\n",
        "print(estudiante['direccion'])\n",
        "\n",
        "#combinar con la invocacion de metodos de los valores.\n",
        "#Mostrar el nombre del estudiante en MAYUSCULAS.\n",
        "\n",
        "print(estudiante['nombre']['nombres'][0].upper(), estudiante['nombre']['nombres'][1].upper())\n",
        "\n",
        "#Keys()\n",
        "llaves = estudiante.keys()\n",
        "print(llaves)\n",
        "print(\"-----------------------------------------\")\n",
        "for llave in llaves:\n",
        "    print(llave)\n",
        "    print(estudiante[llave])\n",
        "print(\"---------------------------------------------\")\n",
        "#values()\n",
        "vals = estudiante.values()\n",
        "for val in vals:\n",
        "    print(val)\n",
        "\n",
        "\n",
        "print(\"--------------------- items --------------------------\")\n",
        "elems = estudiante.items()\n",
        "print(elems)\n",
        "\n",
        "for par in elems:\n",
        "    #print(par)\n",
        "    print(par[1])\n",
        "\n",
        "#Fin de la intro de diccionarios"
      ],
      "execution_count": null,
      "outputs": []
    },
    {
      "cell_type": "code",
      "metadata": {
        "id": "ttdEke68h0GK"
      },
      "source": [
        "help(estudiante)"
      ],
      "execution_count": null,
      "outputs": []
    },
    {
      "cell_type": "markdown",
      "metadata": {
        "id": "e0t2itQXo5aO"
      },
      "source": [
        "#Funciones 2a parte (El Reencuentro)\n",
        "\n",
        "###Declarar funciones combinandola con ***tuplas***\n",
        "Se puede recibir de argumentos dinamica que se almacenara en una tupla. Para ello se utiliza un operador especial que es  es '*'  en la declaracion de la funcion.\n",
        "\n",
        "*\n",
        "def mi_funcion( *algo ): print(algo)\n",
        "*"
      ]
    },
    {
      "cell_type": "code",
      "metadata": {
        "id": "DRBFSvVYo4oL"
      },
      "source": [
        "def mi_funcion( *argumentos):\n",
        "    print(argumentos)\n",
        "\n",
        "mi_funcion(1,2,3, \"Hola\", 3.1416)\n",
        "\n",
        "def suma_v2( *vals ):\n",
        "    suma = 0\n",
        "    for valor in vals:\n",
        "        suma += valor \n",
        "    print(suma)\n",
        "suma_v2(5,4,2,3,4,4,5,5,6,6,6,6,6,6,6,6)"
      ],
      "execution_count": null,
      "outputs": []
    },
    {
      "cell_type": "markdown",
      "metadata": {
        "id": "-y2KUdg9sX6o"
      },
      "source": [
        "###Declarar funciones declarandolas con  ***diccionarios*** \n",
        "\n",
        "\n",
        "def mi_funcion ( **arguemnto ): print( arguemntos ) #argumentos es un diccionario \n"
      ]
    },
    {
      "cell_type": "code",
      "metadata": {
        "id": "qy3bqGjRsj9q"
      },
      "source": [
        "def mi_funcion( **argumentos ):\n",
        "    print(argumentos)\n",
        "\n",
        "mi_funcion( nombre = \"Jose \" , edad = 19)"
      ],
      "execution_count": null,
      "outputs": []
    },
    {
      "cell_type": "code",
      "metadata": {
        "id": "hloGhq7lClMI"
      },
      "source": [
        "#Tarea 4 ejercicio sobre la formula general con funciones\n",
        "\n",
        "import math\n",
        "def discriminante (a,b,c):\n",
        "    discrim = pow(b,2)-(4*a*c)\n",
        "    return discrim \n",
        "\n",
        "def raices(a,b,disc):\n",
        "    raiz1=(-b + math.sqrt(disc)) / (2*a) \n",
        "    raiz2=(-b - math.sqrt(disc)) / (2*a) \n",
        "    return raiz1, raiz2\n",
        "\n",
        "\n",
        "disc=discriminante( 3, -11, -4 )\n",
        "\n",
        "if disc < 0:\n",
        "     print(f'No puede solucionarse')\n",
        "else:\n",
        "    print(f'Las raices son {raices( a, b, disc )}')\n",
        "\n"
      ],
      "execution_count": null,
      "outputs": []
    },
    {
      "cell_type": "markdown",
      "metadata": {
        "id": "NFB07_MuKnAK"
      },
      "source": [
        "#Modulos \n",
        "Un modulo en Python es equivalente a un packcage en Java o un archivo H. en lenguaje C. \n",
        "\n",
        "En él, declaras codigo que quieres llamar varias veces, este código debe estar empaquetado principalmente en funciones. \n"
      ]
    },
    {
      "cell_type": "code",
      "metadata": {
        "id": "Fsl3vVwdNv-Z"
      },
      "source": [
        "\"\"\"\n",
        "def mi_suma( a, b ):\n",
        "    print(\"Haciendo una suma\")\n",
        "    print(f\"La suma de  {a} + {b} = {a+b} \" )   #esta es mi funcion guardada en el modulo mimodulo.py\n",
        "\n",
        "def mi_print( mensaje ):\n",
        "    print(mensaje.upper())\n",
        "\n",
        "def al_reves( mensaje ):\n",
        "    print(mensaje[::-1])\n",
        "\n",
        "\"\"\"\n",
        "\n",
        "import mimodulo\n",
        "\n",
        "mimodulo.mi_suma(3, 4)\n",
        "\n",
        "mimodulo.mi_print(\"Hola k ase\")\n",
        "mimodulo.al_reves(\"Hola k ase\")"
      ],
      "execution_count": null,
      "outputs": []
    },
    {
      "cell_type": "code",
      "metadata": {
        "colab": {
          "base_uri": "https://localhost:8080/"
        },
        "id": "D4OT75ZnPmB_",
        "outputId": "9ce440f6-92fe-40e1-bf2a-50bc56b8d86d"
      },
      "source": [
        "from mimodulo import mi_print, mi_suma, al_reves\n",
        "\n",
        "mi_print(\"Hola de nuevo mi shavo\")\n",
        "\n",
        "mi_suma( 3, 4)\n",
        "\n",
        "al_reves(\"Hola de nuevo mi shavo\")"
      ],
      "execution_count": null,
      "outputs": [
        {
          "output_type": "stream",
          "name": "stdout",
          "text": [
            "HOLA DE NUEVO MI SHAVO\n",
            "Haciendo una suma\n",
            "La suma de  3 + 4 = 7 \n",
            "ovahs im oveun ed aloH\n"
          ]
        }
      ]
    },
    {
      "cell_type": "code",
      "metadata": {
        "id": "DuKycmbcSFEX"
      },
      "source": [
        "import sys\n",
        "\n",
        "print(sys.path)"
      ],
      "execution_count": null,
      "outputs": []
    },
    {
      "cell_type": "code",
      "metadata": {
        "colab": {
          "base_uri": "https://localhost:8080/"
        },
        "id": "fqHKla1WT0-Q",
        "outputId": "70118f88-5ec9-4fdb-b594-74bfb3e202d1"
      },
      "source": [
        "!pip install simple-chalk "
      ],
      "execution_count": null,
      "outputs": [
        {
          "output_type": "stream",
          "name": "stdout",
          "text": [
            "Collecting simple-chalk\n",
            "  Downloading simple_chalk-0.1.0.tar.gz (13 kB)\n",
            "Building wheels for collected packages: simple-chalk\n",
            "  Building wheel for simple-chalk (setup.py) ... \u001b[?25l\u001b[?25hdone\n",
            "  Created wheel for simple-chalk: filename=simple_chalk-0.1.0-py3-none-any.whl size=22163 sha256=07a17dc8542c32b3cb3559232ba5637397b513f448b629d5ad2474edb6defe3f\n",
            "  Stored in directory: /root/.cache/pip/wheels/24/e2/84/d54838032016039eef79df1137b91defaa6db068d825dfcdcd\n",
            "Successfully built simple-chalk\n",
            "Installing collected packages: simple-chalk\n",
            "Successfully installed simple-chalk-0.1.0\n"
          ]
        }
      ]
    },
    {
      "cell_type": "code",
      "metadata": {
        "id": "0FXeYh6JUWoy"
      },
      "source": [
        "from simple_chalk import *\n",
        "print(chalk.blue(\"Texto en azul\"))\n",
        "\n",
        "whyNot = green.bgWhite.red.bgGray   #bg es el bakcground (el fondo)\n",
        "print(whyNot(\"this is red text with a gray background\"))\n",
        "verde_sobre_negro = green.bgBlack\n",
        "print(verde_sobre_negro(\"Test\"))"
      ],
      "execution_count": null,
      "outputs": []
    },
    {
      "cell_type": "markdown",
      "metadata": {
        "id": "yAiS0EikW9Md"
      },
      "source": [
        "# Archivos\n",
        "Para abrir un archivo utiliza la funcion open('nombre', 'AB') \n",
        "\n",
        "nombre= La ruta del archivo\n",
        "A = modo de apertura ( w, r, a, ...)\n",
        "B = Formato t (texto) o b (binario)\n",
        "\n",
        "Para leer tenemos  las funciones:\n",
        "\n",
        "- read()\n",
        "- readline()\n",
        "- readlines()\n"
      ]
    },
    {
      "cell_type": "code",
      "metadata": {
        "id": "VkpxFrikYQle"
      },
      "source": [
        "\"\"\"\n",
        "1, 2, 3, 4, 5, 6, 7   #esto es para mi modulo datos.dat\n",
        "8, 9, 10\n",
        "11, 12\n",
        "13\n",
        "\"\"\"\n",
        "archivo = open('datos.dat', 'rt')  #rt es modo de apertura (A) en este caso r (read) junto con el formato (B) en este caso t(texto)\n",
        "info = archivo.read()\n",
        "print( info )\n",
        "\n",
        "#readline()\n",
        "print(\"--------readline-----------\")\n",
        "archivo = open('datos.dat', 'rt')\n",
        "info = archivo.readline()\n",
        "print( info )\n",
        "info = archivo.readline()\n",
        "print( info )\n",
        "\n",
        "#readlines()\n",
        "print(\"--------readlines-------\")\n",
        "archivo = open('datos.dat', 'rt')\n",
        "info = archivo.readlines()\n",
        "print(info)\n",
        "\n",
        "for index in range(len(info)):\n",
        "                 info[index] = info[index].strip()\n",
        "print(info)\n",
        "    \n",
        "numeros = []\n",
        "for grupo in info:\n",
        "    for numero in grupo.split(','):\n",
        "        numeros.append(int(numero))   #append agrega al final\n",
        "print(numeros)\n",
        "\n",
        "suma = 0\n",
        "for num in numeros:\n",
        "    suma += num\n",
        "\n",
        "print( suma )\n"
      ],
      "execution_count": null,
      "outputs": []
    },
    {
      "cell_type": "markdown",
      "metadata": {
        "id": "KN_XORsWfCV-"
      },
      "source": [
        "#Programacion Orientada a Objetos con Python\n",
        "\n",
        "La POO es un paradigma no soportado originalmente por Python, Python aneja el paradigma imperativo\n",
        "\n",
        "Python simula la POO con la declaracion de clases y haciendo referencia a un objeto de forma circular. self en python es equivalente a this de java\n",
        "\n",
        "Forma 1\n",
        "\n",
        "class < nombre de la clase>:\n",
        "      < definicion de la clase>\n",
        "\n",
        "Forma 2\n",
        "\n",
        "class < nombre de la clase>(Super class): \n",
        "      < Definicion del cuerpo de la clase>\n",
        "\n",
        "El constructor se define siempre con el método__init__()\n",
        "(DOBLE guion bajo antes y despues de 'init')\n",
        "\n",
        "La declaracion de atributos se realiza por medio de el constructor.\n",
        "\n",
        "Para hacer encapsulamiento de métodos o atributos se debe poner __ (DOBLE GUION BAJO) PREVIO A LA DECLARACION DEL ATRIBUTO O MÉTODO \n"
      ]
    },
    {
      "cell_type": "code",
      "metadata": {
        "id": "Fa1ZPpkVfB53"
      },
      "source": [
        "class persona:                 #SELF en Python es equivalente a this de java\n",
        "    def __init__( self, n, e, est ):   \n",
        "        self.__nombre = n\n",
        "        self.__edad = e\n",
        "        self.__estatura = est\n",
        "    \n",
        "    def to_string( self ):\n",
        "        return \"Nombre: \" + self.__nombre + \" Edad: \" + str(self.__edad) + \" Estatura: \" + str(self.__estatura)\n",
        "\n",
        "    def set_estatura( self, nueva_est):\n",
        "        if nueva_est > 0.10 and nueva_est < 2.5 :\n",
        "            self.__estatura = nueva_est\n",
        "        else:\n",
        "            print(\"Erro, esta estatura no es posible\")\n",
        "\n",
        "    def get_estatura(self):\n",
        "        return self.__estatura\n",
        "\n",
        "\n",
        "\n"
      ],
      "execution_count": 52,
      "outputs": []
    },
    {
      "cell_type": "code",
      "metadata": {
        "colab": {
          "base_uri": "https://localhost:8080/"
        },
        "id": "5gQj9Z0bkVH5",
        "outputId": "0f588c77-59a6-4930-9448-96186b49919b"
      },
      "source": [
        "per = persona(\"Jose\", 19, 1.7)\n",
        "print(per.to_string())\n",
        "\n",
        "#Encapsulamiento \n",
        "\n",
        "per.nombre =\"Pedro\"    #ESTO NO SE RECOMIENDA\n",
        "print(per.to_string())\n",
        "\n",
        "#per.estatura = 3.9\n",
        "per.set_estatura(1.9)\n",
        "print(per.to_string())\n",
        "\n",
        "print(\"Estatura: \", end=\"\" )\n",
        "#print(per._persona__estatura)\n",
        "print(per.get_estatura())"
      ],
      "execution_count": 47,
      "outputs": [
        {
          "output_type": "stream",
          "name": "stdout",
          "text": [
            "Nombre: Jose Edad: 19 Estatura: 1.7\n",
            "Nombre: Jose Edad: 19 Estatura: 1.7\n",
            "Nombre: Jose Edad: 19 Estatura: 1.9\n",
            "Estatura: 1.9\n"
          ]
        }
      ]
    },
    {
      "cell_type": "code",
      "metadata": {
        "id": "BgZ0AHrMqvV2"
      },
      "source": [
        "class Estudiante( persona ):\n",
        "    def __init__(self, nc, nombre, edad, est):\n",
        "        self.__num_cta = nc\n",
        "        super().__init__(nombre, edad, est)\n",
        "\n",
        "    \n",
        "    def to_string( self ):\n",
        "        return str(super().get_estatura()) + \" Numero de cuenta: \" + self.__num_cta"
      ],
      "execution_count": 48,
      "outputs": []
    },
    {
      "cell_type": "code",
      "metadata": {
        "colab": {
          "base_uri": "https://localhost:8080/"
        },
        "id": "7yf73jAxrSHy",
        "outputId": "f0fbcc0a-9708-4bf7-9692-30903d7a3fc0"
      },
      "source": [
        "est = Estudiante(  \"212020202\", \"Jose\", 18, 1.7 )\n",
        "print( est.to_string())"
      ],
      "execution_count": 51,
      "outputs": [
        {
          "output_type": "stream",
          "name": "stdout",
          "text": [
            "1.7 Numero de cuenta: 212020202\n"
          ]
        }
      ]
    }
  ]
}